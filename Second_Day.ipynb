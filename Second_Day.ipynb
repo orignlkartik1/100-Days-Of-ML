{
 "cells": [
  {
   "cell_type": "markdown",
   "id": "8c2edfe9-252e-4107-b6fb-8aa5bf2c4ed5",
   "metadata": {},
   "source": [
    " # Second Day of 100 Days of ML"
   ]
  },
  {
   "cell_type": "markdown",
   "id": "5bab2211-4d2d-476d-8592-b5d8b3eb10df",
   "metadata": {},
   "source": [
    "## Step 1:- Preprocessing the data"
   ]
  },
  {
   "cell_type": "code",
   "execution_count": 3,
   "id": "16ad3c2e-ef07-41a9-a87a-04a25395d0fd",
   "metadata": {},
   "outputs": [],
   "source": [
    "# importing the required libraries\n",
    "import pandas as pd\n",
    "import numpy as np\n",
    "import matplotlib.pyplot as plt\n",
    "\n",
    "data = pd.read_csv('studentscores.csv')\n",
    "X = data.iloc[ : ,   : 1 ].values\n",
    "Y = data.iloc[ : , 1 ].values\n",
    "\n",
    "from sklearn.model_selection import train_test_split\n",
    "X_train, X_test, Y_train, Y_test = train_test_split( X, Y, test_size = 1/4, random_state = 0) "
   ]
  },
  {
   "cell_type": "markdown",
   "id": "ba14e10d-f9b3-4c06-b025-4cbe881c3f8e",
   "metadata": {},
   "source": [
    "## Step 2:- Fitting simple Linear regression model to the Training set"
   ]
  },
  {
   "cell_type": "code",
   "execution_count": 4,
   "id": "0604a9c1-1ba5-4fb0-990e-d69fa1610aed",
   "metadata": {},
   "outputs": [],
   "source": [
    "from sklearn.linear_model import LinearRegression\n",
    "regressor = LinearRegression()\n",
    "regressor = regressor.fit(X_train, Y_train)"
   ]
  },
  {
   "cell_type": "markdown",
   "id": "50d433b7-8cff-46d6-93ae-51abb80e800f",
   "metadata": {},
   "source": [
    "## Step 3:- predicting the result"
   ]
  },
  {
   "cell_type": "code",
   "execution_count": 5,
   "id": "e7eb07c1-3706-4141-a897-76b657dc75f9",
   "metadata": {},
   "outputs": [],
   "source": [
    "Y_pred = regressor.predict(X_test)"
   ]
  },
  {
   "cell_type": "markdown",
   "id": "92d2253a-749f-42ed-a3f9-6c84820cfba2",
   "metadata": {},
   "source": [
    "## Step 4:- Visualization"
   ]
  },
  {
   "cell_type": "markdown",
   "id": "044a80d5-1afc-471d-b679-c4563315197e",
   "metadata": {},
   "source": [
    "### visualizing the training data"
   ]
  },
  {
   "cell_type": "code",
   "execution_count": 7,
   "id": "6a7cc51d-cc98-47cb-93f0-ec7a1e5afdc0",
   "metadata": {},
   "outputs": [
    {
     "data": {
      "text/plain": [
       "[<matplotlib.lines.Line2D at 0x1febd021310>]"
      ]
     },
     "execution_count": 7,
     "metadata": {},
     "output_type": "execute_result"
    },
    {
     "data": {
      "image/png": "[encoded data removed]",
      "text/plain": [
       "<Figure size 640x480 with 1 Axes>"
      ]
     },
     "metadata": {},
     "output_type": "display_data"
    }
   ],
   "source": [
    "plt.scatter(X_train , Y_train, color = 'red')\n",
    "plt.plot(X_train , regressor.predict(X_train), color ='blue')"
   ]
  },
  {
   "cell_type": "markdown",
   "id": "1d4f3052-a721-44d7-9f32-004fd4651bd9",
   "metadata": {},
   "source": [
    "### visualizing the test data"
   ]
  },
  {
   "cell_type": "code",
   "execution_count": null,
   "id": "656a9caa-1712-4870-bb9c-01285f66eda5",
   "metadata": {},
   "outputs": [],
   "source": [
    "plt.scatter(X_test , Y_test, color = 'red')\n",
    "plt.plot(X_train , regressor.predict(X_train), color ='blue')"
   ]
  }
 ],
 "metadata": {
  "kernelspec": {
   "display_name": "Python 3 (ipykernel)",
   "language": "python",
   "name": "python3"
  },
  "language_info": {
   "codemirror_mode": {
    "name": "ipython",
    "version": 3
   },
   "file_extension": ".py",
   "mimetype": "text/x-python",
   "name": "python",
   "nbconvert_exporter": "python",
   "pygments_lexer": "ipython3",
   "version": "3.13.2"
  }
 },
 "nbformat": 4,
 "nbformat_minor": 5
}

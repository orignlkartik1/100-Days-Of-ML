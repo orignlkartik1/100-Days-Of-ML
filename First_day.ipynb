{
 "cells": [
  {
   "cell_type": "markdown",
   "id": "e2b7b087-1c07-450e-867d-2dec95c77700",
   "metadata": {},
   "source": [
    "# First Day of 100 Days of ML code\n",
    "---"
   ]
  },
  {
   "cell_type": "markdown",
   "id": "4f177598-ca6e-4d36-b071-e863542a28c5",
   "metadata": {},
   "source": [
    "## Data Preprocessing\n",
    "---"
   ]
  },
  {
   "cell_type": "markdown",
   "id": "db480392-45e7-47b7-9955-de4b3acb1c4e",
   "metadata": {},
   "source": [
    "### Step 1 :- Importing the Libraries\n",
    "---"
   ]
  },
  {
   "cell_type": "code",
   "execution_count": 5,
   "id": "c2f9290f-cec2-4b20-9d73-3f8172f151fb",
   "metadata": {},
   "outputs": [],
   "source": [
    "#For this , we use Two Python's Library *Numpy and *Pandas.\n",
    "\n",
    "# Numpy is use for Mathematical functions.\n",
    "# Pandas is use for Datasets related work.\n",
    "\n",
    "# Importing the Library's.\n",
    "\n",
    "import numpy as np,pandas as pd"
   ]
  },
  {
   "cell_type": "markdown",
   "id": "63f9a036-5063-4080-bacf-39304254d354",
   "metadata": {},
   "source": [
    "### Step 2 :- Importing the Dataset\n",
    "---"
   ]
  },
  {
   "cell_type": "code",
   "execution_count": 6,
   "id": "856717df-84be-4bae-b69a-48d9438abc91",
   "metadata": {},
   "outputs": [],
   "source": [
    "# Now, generally our Datasets in Tabular form (CSV format). We use *read_csv function for reading the datasets.\n",
    "\n",
    "data=pd.read_csv('Data.csv')\n",
    "X = data.iloc[ : , :-1].values # Features of our data\n",
    "Y = data.iloc[ : , 3].values # Label of the data"
   ]
  },
  {
   "cell_type": "markdown",
   "id": "ce0c6fbf-6dfb-4819-9e37-2bcd56506f8e",
   "metadata": {},
   "source": [
    "### Step 3:- Handling the datasets\n",
    "---"
   ]
  },
  {
   "cell_type": "code",
   "execution_count": 7,
   "id": "5236b894-9af7-4d43-a0c8-514db40ec722",
   "metadata": {},
   "outputs": [],
   "source": [
    "# Not always, we get data properly for this. We use some techniques to handle the data. \n",
    "# So, There is a technique called imputation , which replace missing values by there median or mean values of that coulmns values.\n",
    "\n",
    "# for this , we use another library *sklearn libary of python.\n",
    "\n",
    "from sklearn.impute import SimpleImputer as sim\n",
    "\n",
    "imputer= sim(missing_values=np.nan,strategy='mean')\n",
    "imputer.fit(X[ : , 1:3])\n",
    "X[ : , 1:3] = imputer.fit_transform(X[ : , 1:3])"
   ]
  },
  {
   "cell_type": "markdown",
   "id": "be6ccae9-31bb-4f35-a4ce-00f1ab959a87",
   "metadata": {},
   "source": [
    "### Step 4:- Encoding the categorical data\n",
    "---"
   ]
  },
  {
   "cell_type": "code",
   "execution_count": 8,
   "id": "e1480174-5a11-4456-91cc-467e946db3a7",
   "metadata": {},
   "outputs": [],
   "source": [
    "# Categorical data are variables , which are in label form, But our machine want data in numerical form.\n",
    "# to deal with this problem, we use encoding, which turns this values in numerical form.\n",
    "import numpy as np\n",
    "from sklearn.preprocessing import LabelEncoder, OneHotEncoder\n",
    "\n",
    "# Suppose X and Y are NumPy arrays\n",
    "la = LabelEncoder()\n",
    "X[:, 0] = la.fit_transform(X[:, 0])   # encode first column of X\n",
    "\n",
    "one = OneHotEncoder()\n",
    "X = one.fit_transform(X).toarray()    # convert to dense NumPy array\n",
    "\n",
    "labely = LabelEncoder()\n",
    "Y = labely.fit_transform(Y)           # encode target labels\n"
   ]
  },
  {
   "cell_type": "markdown",
   "id": "0211cac7-a524-49f4-936f-e1a90c9c3d63",
   "metadata": {},
   "source": [
    "### Step 5:- Splitting the Datasets in Train and Test size."
   ]
  },
  {
   "cell_type": "code",
   "execution_count": 10,
   "id": "9f7b017b-c369-403e-b0be-a52eb746527b",
   "metadata": {},
   "outputs": [],
   "source": [
    "# For checking our model , we splits data sets into Train and Test size. For exposing model to seen or unseen data.\n",
    "\n",
    "from sklearn.model_selection import train_test_split\n",
    "\n",
    "# Suppose X and Y are already preprocessed\n",
    "X_train, X_test, y_train, y_test = train_test_split(\n",
    "    X, Y, test_size=0.2, random_state=0\n",
    ")\n"
   ]
  },
  {
   "cell_type": "markdown",
   "id": "8caffb37-dd9f-412d-8d51-5261ed74dc70",
   "metadata": {},
   "source": [
    "### Step 6:- Feature Scaling"
   ]
  },
  {
   "cell_type": "code",
   "execution_count": null,
   "id": "3fbb7736-207b-48a4-8989-1ba20c1bbbd7",
   "metadata": {},
   "outputs": [],
   "source": [
    "from sklearn.preprocessing import StandardScaler\n",
    "\n",
    "sc = StandardScaler()\n",
    "X_train = sc.fit_transform(X_train)   # fit on training data\n",
    "X_test = sc.transform(X_test)         # use same transform on test data\n"
   ]
  }
 ],
 "metadata": {
  "kernelspec": {
   "display_name": "Python 3 (ipykernel)",
   "language": "python",
   "name": "python3"
  },
  "language_info": {
   "codemirror_mode": {
    "name": "ipython",
    "version": 3
   },
   "file_extension": ".py",
   "mimetype": "text/x-python",
   "name": "python",
   "nbconvert_exporter": "python",
   "pygments_lexer": "ipython3",
   "version": "3.13.2"
  }
 },
 "nbformat": 4,
 "nbformat_minor": 5
}

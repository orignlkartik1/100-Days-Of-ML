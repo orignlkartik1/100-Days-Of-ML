{
 "cells": [
  {
   "cell_type": "markdown",
   "id": "e2b7b087-1c07-450e-867d-2dec95c77700",
   "metadata": {},
   "source": [
    "# First Day of 100 Days of ML code\n",
    "---"
   ]
  },
  {
   "cell_type": "markdown",
   "id": "4f177598-ca6e-4d36-b071-e863542a28c5",
   "metadata": {},
   "source": [
    "## Data Preprocessing\n",
    "---"
   ]
  },
  {
   "cell_type": "markdown",
   "id": "db480392-45e7-47b7-9955-de4b3acb1c4e",
   "metadata": {},
   "source": [
    "### Step 1 :- Importing the Libraries\n",
    "---"
   ]
  },
  {
   "cell_type": "code",
   "execution_count": 5,
   "id": "c2f9290f-cec2-4b20-9d73-3f8172f151fb",
   "metadata": {},
   "outputs": [],
   "source": [
    "#For this , we use Two Python's Library *Numpy and *Pandas.\n",
    "\n",
    "# Numpy is use for Mathematical functions.\n",
    "# Pandas is use for Datasets related work.\n",
    "\n",
    "# Importing the Library's.\n",
    "\n",
    "import numpy as np,pandas as pd"
   ]
  },
  {
   "cell_type": "markdown",
   "id": "63f9a036-5063-4080-bacf-39304254d354",
   "metadata": {},
   "source": [
    "### Step 2 :- Importing the Dataset\n",
    "---"
   ]
  },
  {
   "cell_type": "code",
   "execution_count": 14,
   "id": "856717df-84be-4bae-b69a-48d9438abc91",
   "metadata": {},
   "outputs": [],
   "source": [
    "# Now, generally our Datasets in Tabular form (CSV format). We use *read_csv function for reading the datasets.\n",
    "\n",
    "data=pd.read_csv('Data.csv')\n",
    "X = data.iloc[ : , :-1].values # Features of our data\n",
    "Y = data.iloc[ : , 3].values # Label of the data"
   ]
  },
  {
   "cell_type": "markdown",
   "id": "ce0c6fbf-6dfb-4819-9e37-2bcd56506f8e",
   "metadata": {},
   "source": [
    "### Step 3:- Handling the datasets\n",
    "---"
   ]
  },
  {
   "cell_type": "code",
   "execution_count": 23,
   "id": "5236b894-9af7-4d43-a0c8-514db40ec722",
   "metadata": {},
   "outputs": [],
   "source": [
    "# Not always, we get data properly for this. We use some techniques to handle the data. \n",
    "# So, There is a technique called imputation , which replace missing values by there median or mean values of that coulmns values.\n",
    "\n",
    "# for this , we use another library *sklearn libary of python.\n",
    "\n",
    "from sklearn.impute import SimpleImputer as sim\n",
    "\n",
    "imputer= sim(missing_values=np.nan,strategy='mean')\n",
    "imputer.fit(X[ : , 1:3])\n",
    "X[ : , 1:3] = imputer.fit_transform(X[ : , 1:3])"
   ]
  },
  {
   "cell_type": "markdown",
   "id": "be6ccae9-31bb-4f35-a4ce-00f1ab959a87",
   "metadata": {},
   "source": [
    "### Step 4:- Encoding the categorical data\n",
    "---"
   ]
  },
  {
   "cell_type": "code",
   "execution_count": 27,
   "id": "e1480174-5a11-4456-91cc-467e946db3a7",
   "metadata": {},
   "outputs": [
    {
     "ename": "TypeError",
     "evalue": "OneHotEncoder.__init__() got an unexpected keyword argument 'categorical_features'",
     "output_type": "error",
     "traceback": [
      "\u001b[31m---------------------------------------------------------------------------\u001b[39m",
      "\u001b[31mTypeError\u001b[39m                                 Traceback (most recent call last)",
      "\u001b[36mCell\u001b[39m\u001b[36m \u001b[39m\u001b[32mIn[27]\u001b[39m\u001b[32m, line 9\u001b[39m\n\u001b[32m      6\u001b[39m labelx= LabelEncoder()\n\u001b[32m      7\u001b[39m X[:,\u001b[32m0\u001b[39m]=labelx.fit_transform(X[:,\u001b[32m0\u001b[39m])\n\u001b[32m----> \u001b[39m\u001b[32m9\u001b[39m one = \u001b[43mOneHotEncoder\u001b[49m\u001b[43m(\u001b[49m\u001b[43mcategorical_features\u001b[49m\u001b[43m \u001b[49m\u001b[43m=\u001b[49m\u001b[43m \u001b[49m\u001b[43m[\u001b[49m\u001b[32;43m0\u001b[39;49m\u001b[43m]\u001b[49m\u001b[43m)\u001b[49m\n\u001b[32m     10\u001b[39m X = one.fit_transform(X).toarray()\n\u001b[32m     11\u001b[39m labely = LabelEncoder()\n",
      "\u001b[31mTypeError\u001b[39m: OneHotEncoder.__init__() got an unexpected keyword argument 'categorical_features'"
     ]
    }
   ],
   "source": [
    "# Categorical data are variables , which are in label form, But our machine want data in numerical form.\n",
    "# to deal with this problem, we use encoding, which turns this values in numerical form.\n",
    "\n",
    "from sklearn.preprocessing import LabelEncoder, OneHotEncoder\n",
    "\n",
    "labelx= LabelEncoder()\n",
    "X[:,0]=labelx.fit_transform(X[:,0])\n",
    "\n",
    "one = OneHotEncoder(categorical_features = [0])\n",
    "X = one.fit_transform(X).toarray()\n",
    "labely = LabelEncoder()\n",
    "Y =  labely.fit_transform(Y)"
   ]
  },
  {
   "cell_type": "code",
   "execution_count": null,
   "id": "cf33c41c-8552-42fc-ba69-53a487a13887",
   "metadata": {},
   "outputs": [],
   "source": []
  }
 ],
 "metadata": {
  "kernelspec": {
   "display_name": "Python 3 (ipykernel)",
   "language": "python",
   "name": "python3"
  },
  "language_info": {
   "codemirror_mode": {
    "name": "ipython",
    "version": 3
   },
   "file_extension": ".py",
   "mimetype": "text/x-python",
   "name": "python",
   "nbconvert_exporter": "python",
   "pygments_lexer": "ipython3",
   "version": "3.13.2"
  }
 },
 "nbformat": 4,
 "nbformat_minor": 5
}
